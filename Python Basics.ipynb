{
 "cells": [
  {
   "cell_type": "code",
   "execution_count": 1,
   "id": "6d1ea497-e297-475e-900e-43f169bce5be",
   "metadata": {},
   "outputs": [
    {
     "name": "stdout",
     "output_type": "stream",
     "text": [
      "Hello, World!\n"
     ]
    }
   ],
   "source": [
    "# 1. Write a Python program to print \"Hello, World!\"\n",
    "print(\"Hello, World!\")\n"
   ]
  },
  {
   "cell_type": "code",
   "execution_count": 2,
   "id": "c25ac432-7eef-44ee-b4a2-301a257762d9",
   "metadata": {},
   "outputs": [
    {
     "name": "stdout",
     "output_type": "stream",
     "text": [
      "My name is Deepak Sharma and I am 22 years old.\n"
     ]
    }
   ],
   "source": [
    "# 2. Write a Python program that displays your name and age.\n",
    "name = \"Deepak Sharma\"\n",
    "age = 22\n",
    "print(\"My name is Deepak Sharma and I am 22 years old.\")\n"
   ]
  },
  {
   "cell_type": "code",
   "execution_count": 3,
   "id": "50156ae4-e235-4873-ae3e-fc4a77363337",
   "metadata": {},
   "outputs": [
    {
     "name": "stdout",
     "output_type": "stream",
     "text": [
      "Python Keywords: ['False', 'None', 'True', 'and', 'as', 'assert', 'async', 'await', 'break', 'class', 'continue', 'def', 'del', 'elif', 'else', 'except', 'finally', 'for', 'from', 'global', 'if', 'import', 'in', 'is', 'lambda', 'nonlocal', 'not', 'or', 'pass', 'raise', 'return', 'try', 'while', 'with', 'yield']\n"
     ]
    }
   ],
   "source": [
    "# 3. Write code to print all the pre-defined keywords in Python using the keyword library.\n",
    "import keyword\n",
    "print(\"Python Keywords:\", keyword.kwlist)\n"
   ]
  },
  {
   "cell_type": "code",
   "execution_count": 4,
   "id": "a231cefc-4096-42af-a244-54f806c4ca50",
   "metadata": {},
   "outputs": [
    {
     "name": "stdout",
     "output_type": "stream",
     "text": [
      "Updated List: [1, 10, 3]\n",
      "Error with tuple: 'tuple' object does not support item assignment\n"
     ]
    }
   ],
   "source": [
    "# 5. Create a list and tuple in Python, and demonstrate how attempting to change an element works differently for each.\n",
    "my_list = [1, 2, 3]\n",
    "my_tuple = (1, 2, 3)\n",
    "\n",
    "# Changing an element in the list\n",
    "my_list[1] = 10\n",
    "print(\"Updated List:\", my_list)\n",
    "\n",
    "# Trying to change an element in the tuple (will raise an error)\n",
    "try:\n",
    "    my_tuple[1] = 10\n",
    "except TypeError as e:\n",
    "    print(\"Error with tuple:\", e)\n"
   ]
  },
  {
   "cell_type": "code",
   "execution_count": 5,
   "id": "6c4d3082-398c-4ef9-97d6-8bcff09613b2",
   "metadata": {},
   "outputs": [
    {
     "name": "stdout",
     "output_type": "stream",
     "text": [
      "Inside function - List: [1, 2, 3, 4]\n",
      "Inside function - String: Deepak Sharma\n",
      "Outside function - List: [1, 2, 3, 4]\n",
      "Outside function - String: Deepak\n"
     ]
    }
   ],
   "source": [
    "# 6. Write a function to demonstrate the behavior of mutable and immutable arguments.\n",
    "def modify_data(a_list, a_string):\n",
    "    a_list.append(4)  # Mutable object\n",
    "    a_string += \" Sharma\"  # Immutable object\n",
    "    print(\"Inside function - List:\", a_list)\n",
    "    print(\"Inside function - String:\", a_string)\n",
    "\n",
    "my_list = [1, 2, 3]\n",
    "my_string = \"Deepak\"\n",
    "modify_data(my_list, my_string)\n",
    "\n",
    "print(\"Outside function - List:\", my_list)  # List is modified\n",
    "print(\"Outside function - String:\", my_string)  # String is unchanged\n"
   ]
  },
  {
   "cell_type": "code",
   "execution_count": 6,
   "id": "1ddcb50e-61d3-4c44-91cc-746786d6b1ac",
   "metadata": {},
   "outputs": [
    {
     "name": "stdout",
     "output_type": "stream",
     "text": [
      "True\n",
      "True\n",
      "False\n"
     ]
    }
   ],
   "source": [
    "# 7. Write a program to demonstrate the use of logical operators.\n",
    "x = 5\n",
    "y = 10\n",
    "z = 15\n",
    "print(x > 3 and y < 20)  # True\n",
    "print(x < 3 or z > 10)  # True\n",
    "print(not (y == 10))  # False\n"
   ]
  },
  {
   "cell_type": "code",
   "execution_count": 7,
   "id": "5c46b07c-7f86-4008-a766-99478c36a4d1",
   "metadata": {},
   "outputs": [
    {
     "name": "stdout",
     "output_type": "stream",
     "text": [
      "Original List (str): ['1', '2', '3']\n",
      "Converted List (int): [1, 2, 3]\n"
     ]
    }
   ],
   "source": [
    "# 9. Write code to demonstrate type casting with list elements.\n",
    "my_list = [\"1\", \"2\", \"3\"]\n",
    "int_list = [int(x) for x in my_list]\n",
    "print(\"Original List (str):\", my_list)\n",
    "print(\"Converted List (int):\", int_list)\n"
   ]
  },
  {
   "cell_type": "code",
   "execution_count": 8,
   "id": "ab4cdf37-58f6-45e8-ac32-86305ed81a08",
   "metadata": {},
   "outputs": [
    {
     "name": "stdout",
     "output_type": "stream",
     "text": [
      "The number is positive.\n"
     ]
    }
   ],
   "source": [
    "# 10. Write a program that checks if a number is positive, negative, or zero.\n",
    "number = 7  # Example input\n",
    "if number > 0:\n",
    "    print(\"The number is positive.\")\n",
    "elif number < 0:\n",
    "    print(\"The number is negative.\")\n",
    "else:\n",
    "    print(\"The number is zero.\")\n"
   ]
  },
  {
   "cell_type": "code",
   "execution_count": 9,
   "id": "240c8ccf-452f-44d3-9788-f139d856e157",
   "metadata": {},
   "outputs": [
    {
     "name": "stdout",
     "output_type": "stream",
     "text": [
      "1\n",
      "2\n",
      "3\n",
      "4\n",
      "5\n",
      "6\n",
      "7\n",
      "8\n",
      "9\n",
      "10\n"
     ]
    }
   ],
   "source": [
    "# 11. Write a for loop to print numbers from 1 to 10.\n",
    "for i in range(1, 11):\n",
    "    print(i)\n"
   ]
  },
  {
   "cell_type": "code",
   "execution_count": 10,
   "id": "61018397-c09f-4916-9f77-8232b82e84cb",
   "metadata": {},
   "outputs": [
    {
     "name": "stdout",
     "output_type": "stream",
     "text": [
      "Sum of even numbers from 1 to 50: 650\n"
     ]
    }
   ],
   "source": [
    "# 12. Write a Python program to find the sum of all even numbers between 1 and 50.\n",
    "even_sum = sum(i for i in range(1, 51) if i % 2 == 0)\n",
    "print(\"Sum of even numbers from 1 to 50:\", even_sum)\n"
   ]
  },
  {
   "cell_type": "code",
   "execution_count": 12,
   "id": "eba73547-d645-4c43-a97d-15cdbfef6c20",
   "metadata": {},
   "outputs": [
    {
     "name": "stdout",
     "output_type": "stream",
     "text": [
      "Reversed String: kapeeD\n"
     ]
    }
   ],
   "source": [
    "# 13. Write a program to reverse a string using a while loop.\n",
    "string = \"Deepak\"  # Example input\n",
    "reversed_string = \"\"\n",
    "i = len(string) - 1\n",
    "while i >= 0:\n",
    "    reversed_string += string[i]\n",
    "    i -= 1\n",
    "print(\"Reversed String:\", reversed_string)\n"
   ]
  },
  {
   "cell_type": "code",
   "execution_count": 13,
   "id": "e2361f4a-2a6a-451f-a80e-c15132865549",
   "metadata": {},
   "outputs": [
    {
     "name": "stdout",
     "output_type": "stream",
     "text": [
      "The factorial of 5 is 120.\n"
     ]
    }
   ],
   "source": [
    "# 14. Write a Python program to calculate the factorial of a number provided by the user using a while loop.\n",
    "number = 5  # Example input\n",
    "factorial = 1\n",
    "if number < 0:\n",
    "    print(\"Factorial is not defined for negative numbers.\")\n",
    "else:\n",
    "    i = 1\n",
    "    while i <= number:\n",
    "        factorial *= i\n",
    "        i += 1\n",
    "    print(f\"The factorial of {number} is {factorial}.\")\n"
   ]
  },
  {
   "cell_type": "code",
   "execution_count": null,
   "id": "e3c08232-5815-4b82-b68d-3ff6ab55d5c9",
   "metadata": {},
   "outputs": [],
   "source": [
    "# 4. Write a program that checks if a given word is a Python keyword.\n",
    "import keyword\n",
    "word = input(\"Enter a word: \")  # Example: Enter \"if\"\n",
    "if keyword.iskeyword(word):\n",
    "    print(f\"'{word}' is a Python keyword.\")\n",
    "else:\n",
    "    print(f\"'{word}' is not a Python keyword.\")\n"
   ]
  },
  {
   "cell_type": "code",
   "execution_count": null,
   "id": "18c8816a-e1a6-4dd1-948b-fae704b73e77",
   "metadata": {},
   "outputs": [],
   "source": []
  }
 ],
 "metadata": {
  "kernelspec": {
   "display_name": "Python 3 (ipykernel)",
   "language": "python",
   "name": "python3"
  },
  "language_info": {
   "codemirror_mode": {
    "name": "ipython",
    "version": 3
   },
   "file_extension": ".py",
   "mimetype": "text/x-python",
   "name": "python",
   "nbconvert_exporter": "python",
   "pygments_lexer": "ipython3",
   "version": "3.12.7"
  }
 },
 "nbformat": 4,
 "nbformat_minor": 5
}
